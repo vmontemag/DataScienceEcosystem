{
  "nbformat": 4,
  "nbformat_minor": 0,
  "metadata": {
    "colab": {
      "provenance": []
    },
    "kernelspec": {
      "name": "python3",
      "display_name": "Python 3"
    },
    "language_info": {
      "name": "python"
    }
  },
  "cells": [
    {
      "cell_type": "markdown",
      "source": [
        "# Data Science Tools and Ecosystem"
      ],
      "metadata": {
        "id": "GaLO9E6o8dPj"
      }
    },
    {
      "cell_type": "markdown",
      "source": [
        "In this notebook, Data Science Tools and Ecosystem are summarized."
      ],
      "metadata": {
        "id": "xEIJqqXL_APU"
      }
    },
    {
      "cell_type": "markdown",
      "source": [
        "Some of the popular languages that Data Scientists use are:\n",
        "\n",
        "\n",
        "1.   Python\n",
        "2.   R\n",
        "3.   Scala\n",
        "\n"
      ],
      "metadata": {
        "id": "7woujd6t_Cve"
      }
    },
    {
      "cell_type": "markdown",
      "source": [
        "Some of the commonly used libraries used by Data Scientists include:\n",
        "\n",
        "\n",
        "1.   Pandas\n",
        "2.   NumPy\n",
        "3.   SciPy\n",
        "\n"
      ],
      "metadata": {
        "id": "jPs18O1v_vZu"
      }
    },
    {
      "cell_type": "markdown",
      "source": [
        "| Data Science Tools |\n",
        "| ---- |\n",
        "| Jupyter Notebooks |\n",
        "| RStudio|\n",
        "| Apache Zeppelin |\n"
      ],
      "metadata": {
        "id": "GcNlpyIAAMT2"
      }
    },
    {
      "cell_type": "markdown",
      "source": [
        "### Below are a few examples of evaluating arithmetic expressions in Python"
      ],
      "metadata": {
        "id": "CXYRKUSuCYZp"
      }
    },
    {
      "cell_type": "code",
      "source": [
        "# This a simple arithmetic expression to mutiply then add integers\n",
        "(3*4)+5\n"
      ],
      "metadata": {
        "colab": {
          "base_uri": "https://localhost:8080/"
        },
        "id": "Fi8gF--QCkCq",
        "outputId": "82dca1f5-7436-4a45-ed76-74b3a85baac8"
      },
      "execution_count": 1,
      "outputs": [
        {
          "output_type": "execute_result",
          "data": {
            "text/plain": [
              "17"
            ]
          },
          "metadata": {},
          "execution_count": 1
        }
      ]
    },
    {
      "cell_type": "code",
      "source": [
        "# This will convert 200 minutes to hours by diving by 60\n",
        "200/60"
      ],
      "metadata": {
        "colab": {
          "base_uri": "https://localhost:8080/"
        },
        "id": "AnfhJf-tC1qI",
        "outputId": "57a45f61-c4e4-458c-c7a7-8cf379ab42de"
      },
      "execution_count": 3,
      "outputs": [
        {
          "output_type": "execute_result",
          "data": {
            "text/plain": [
              "3.3333333333333335"
            ]
          },
          "metadata": {},
          "execution_count": 3
        }
      ]
    },
    {
      "cell_type": "markdown",
      "source": [
        "**Objectives:**\n",
        "\n",
        "\n",
        "*   List popular languages for Data Science\n",
        "*   List commonly used libraries used by Data Scientists\n",
        "*   List three development environment open source tools used in data science\n"
      ],
      "metadata": {
        "id": "pkTqPQcVDHRf"
      }
    },
    {
      "cell_type": "markdown",
      "source": [
        "## Author\n",
        "Victor Soares Montemagni"
      ],
      "metadata": {
        "id": "UkZVansHDy4A"
      }
    }
  ]
}